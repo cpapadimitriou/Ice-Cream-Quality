{
 "cells": [
  {
   "cell_type": "markdown",
   "metadata": {},
   "source": [
    "# Ice Cream Quality Prediction"
   ]
  },
  {
   "cell_type": "markdown",
   "metadata": {},
   "source": [
    "My best friend is pursuing their lifelong dream of opening an ice cream shop and is scouring the internet to find as many ice cream recipes as possible. Manually reviewing recipes is time-consuming. In this notebook I will automate this process and filter out the bad recipes. \n",
    "\n",
    "I will build a binary classifier to distinguish between good and bad ice cream recipes."
   ]
  },
  {
   "cell_type": "code",
   "execution_count": 1,
   "metadata": {},
   "outputs": [],
   "source": [
    "import pandas as pd\n",
    "import numpy as np\n",
    "from sklearn.feature_extraction.text import CountVectorizer\n",
    "from sklearn.feature_extraction.text import TfidfTransformer\n",
    "from sklearn.feature_extraction.text import TfidfVectorizer\n",
    "import nltk\n",
    "from nltk.stem import WordNetLemmatizer\n",
    "from nltk.corpus import stopwords\n",
    "import ast\n",
    "import re\n",
    "import string\n",
    "from sklearn.model_selection import train_test_split\n",
    "from sklearn.ensemble import RandomForestClassifier\n",
    "from sklearn.metrics import confusion_matrix, classification_report, accuracy_score, roc_curve, roc_auc_score\n",
    "import matplotlib.pyplot as plt\n",
    "# from xgboost import XGBClassifier\n",
    "\n",
    "from src.util import clean_text, lemmatize_text, tfidf"
   ]
  },
  {
   "cell_type": "code",
   "execution_count": 2,
   "metadata": {},
   "outputs": [],
   "source": [
    "# nltk.download('wordnet')\n",
    "# nltk.download('stopwords')"
   ]
  },
  {
   "cell_type": "markdown",
   "metadata": {},
   "source": [
    "## Data Pre-process and EDA "
   ]
  },
  {
   "cell_type": "markdown",
   "metadata": {},
   "source": [
    "**Observations**\n",
    "\n",
    "* There are 1000 ice-cream recipes in the data\n",
    "* The classes are equally balanced (i.e. 500 are good recipes and 500 are bad)"
   ]
  },
  {
   "cell_type": "code",
   "execution_count": 3,
   "metadata": {},
   "outputs": [],
   "source": [
    "df = pd.read_excel('ice_cream_data.xlsx')"
   ]
  },
  {
   "cell_type": "code",
   "execution_count": 4,
   "metadata": {},
   "outputs": [
    {
     "data": {
      "text/html": [
       "<div>\n",
       "<style scoped>\n",
       "    .dataframe tbody tr th:only-of-type {\n",
       "        vertical-align: middle;\n",
       "    }\n",
       "\n",
       "    .dataframe tbody tr th {\n",
       "        vertical-align: top;\n",
       "    }\n",
       "\n",
       "    .dataframe thead th {\n",
       "        text-align: right;\n",
       "    }\n",
       "</style>\n",
       "<table border=\"1\" class=\"dataframe\">\n",
       "  <thead>\n",
       "    <tr style=\"text-align: right;\">\n",
       "      <th></th>\n",
       "      <th>id</th>\n",
       "      <th>cooking_steps</th>\n",
       "      <th>ingredients</th>\n",
       "      <th>is_good_recipe</th>\n",
       "    </tr>\n",
       "  </thead>\n",
       "  <tbody>\n",
       "    <tr>\n",
       "      <th>0</th>\n",
       "      <td>137739</td>\n",
       "      <td>['make a choice and proceed with recipe', 'dep...</td>\n",
       "      <td>['winter squash', 'mexican seasoning', 'mixed ...</td>\n",
       "      <td>True</td>\n",
       "    </tr>\n",
       "    <tr>\n",
       "      <th>1</th>\n",
       "      <td>31490</td>\n",
       "      <td>['preheat oven to 425 degrees f', 'press dough...</td>\n",
       "      <td>['prepared pizza crust', 'sausage patty', 'egg...</td>\n",
       "      <td>True</td>\n",
       "    </tr>\n",
       "    <tr>\n",
       "      <th>2</th>\n",
       "      <td>112140</td>\n",
       "      <td>['brown ground beef in large pot', 'add choppe...</td>\n",
       "      <td>['ground beef', 'yellow onions', 'diced tomato...</td>\n",
       "      <td>True</td>\n",
       "    </tr>\n",
       "    <tr>\n",
       "      <th>3</th>\n",
       "      <td>59389</td>\n",
       "      <td>['place potatoes in a large pot of lightly sal...</td>\n",
       "      <td>['spreadable cheese with garlic and herbs', 'n...</td>\n",
       "      <td>True</td>\n",
       "    </tr>\n",
       "    <tr>\n",
       "      <th>4</th>\n",
       "      <td>44061</td>\n",
       "      <td>['mix all ingredients&amp; boil for 2 1 / 2 hours ...</td>\n",
       "      <td>['tomato juice', 'apple cider vinegar', 'sugar...</td>\n",
       "      <td>True</td>\n",
       "    </tr>\n",
       "  </tbody>\n",
       "</table>\n",
       "</div>"
      ],
      "text/plain": [
       "       id                                      cooking_steps  \\\n",
       "0  137739  ['make a choice and proceed with recipe', 'dep...   \n",
       "1   31490  ['preheat oven to 425 degrees f', 'press dough...   \n",
       "2  112140  ['brown ground beef in large pot', 'add choppe...   \n",
       "3   59389  ['place potatoes in a large pot of lightly sal...   \n",
       "4   44061  ['mix all ingredients& boil for 2 1 / 2 hours ...   \n",
       "\n",
       "                                         ingredients  is_good_recipe  \n",
       "0  ['winter squash', 'mexican seasoning', 'mixed ...            True  \n",
       "1  ['prepared pizza crust', 'sausage patty', 'egg...            True  \n",
       "2  ['ground beef', 'yellow onions', 'diced tomato...            True  \n",
       "3  ['spreadable cheese with garlic and herbs', 'n...            True  \n",
       "4  ['tomato juice', 'apple cider vinegar', 'sugar...            True  "
      ]
     },
     "execution_count": 4,
     "metadata": {},
     "output_type": "execute_result"
    }
   ],
   "source": [
    "df.head()"
   ]
  },
  {
   "cell_type": "code",
   "execution_count": 5,
   "metadata": {},
   "outputs": [],
   "source": [
    "df = df.rename(columns={'ingredients': 'recipe_ingredients'})"
   ]
  },
  {
   "cell_type": "code",
   "execution_count": 6,
   "metadata": {},
   "outputs": [
    {
     "data": {
      "text/plain": [
       "(1000, 4)"
      ]
     },
     "execution_count": 6,
     "metadata": {},
     "output_type": "execute_result"
    }
   ],
   "source": [
    "df.shape"
   ]
  },
  {
   "cell_type": "code",
   "execution_count": 7,
   "metadata": {},
   "outputs": [
    {
     "data": {
      "text/plain": [
       "1000"
      ]
     },
     "execution_count": 7,
     "metadata": {},
     "output_type": "execute_result"
    }
   ],
   "source": [
    "df.id.nunique()"
   ]
  },
  {
   "cell_type": "code",
   "execution_count": 8,
   "metadata": {},
   "outputs": [
    {
     "data": {
      "text/plain": [
       "id                    0\n",
       "cooking_steps         0\n",
       "recipe_ingredients    0\n",
       "is_good_recipe        0\n",
       "dtype: int64"
      ]
     },
     "execution_count": 8,
     "metadata": {},
     "output_type": "execute_result"
    }
   ],
   "source": [
    "df.isna().sum()"
   ]
  },
  {
   "cell_type": "code",
   "execution_count": 9,
   "metadata": {},
   "outputs": [
    {
     "data": {
      "text/plain": [
       "True     500\n",
       "False    500\n",
       "Name: is_good_recipe, dtype: int64"
      ]
     },
     "execution_count": 9,
     "metadata": {},
     "output_type": "execute_result"
    }
   ],
   "source": [
    "df['is_good_recipe'].value_counts()"
   ]
  },
  {
   "cell_type": "markdown",
   "metadata": {},
   "source": [
    "## Feature Engineering"
   ]
  },
  {
   "cell_type": "markdown",
   "metadata": {},
   "source": [
    "### Ingredients"
   ]
  },
  {
   "cell_type": "markdown",
   "metadata": {},
   "source": [
    "* There are 1,044 unique ingredients\n",
    "* I converted the list of ingredients into a vector for each recipe, with length equal to the total unique ingredients and values the frequency counts of each ingredient in the recipe\n",
    "* As a second approach, I transformed the count matrix to a normalized tf-idf representation"
   ]
  },
  {
   "cell_type": "code",
   "execution_count": 18,
   "metadata": {},
   "outputs": [
    {
     "data": {
      "text/html": [
       "<div>\n",
       "<style scoped>\n",
       "    .dataframe tbody tr th:only-of-type {\n",
       "        vertical-align: middle;\n",
       "    }\n",
       "\n",
       "    .dataframe tbody tr th {\n",
       "        vertical-align: top;\n",
       "    }\n",
       "\n",
       "    .dataframe thead th {\n",
       "        text-align: right;\n",
       "    }\n",
       "</style>\n",
       "<table border=\"1\" class=\"dataframe\">\n",
       "  <thead>\n",
       "    <tr style=\"text-align: right;\">\n",
       "      <th></th>\n",
       "      <th>id</th>\n",
       "      <th>cooking_steps</th>\n",
       "      <th>recipe_ingredients</th>\n",
       "      <th>is_good_recipe</th>\n",
       "      <th>ingedients_vector</th>\n",
       "      <th>ingedients_tfidf_vector</th>\n",
       "      <th>cooking_steps_all</th>\n",
       "      <th>cooking_steps_clean</th>\n",
       "      <th>cooking_steps_lemma</th>\n",
       "    </tr>\n",
       "  </thead>\n",
       "  <tbody>\n",
       "    <tr>\n",
       "      <th>0</th>\n",
       "      <td>137739</td>\n",
       "      <td>['make a choice and proceed with recipe', 'dep...</td>\n",
       "      <td>['winter squash', 'mexican seasoning', 'mixed ...</td>\n",
       "      <td>True</td>\n",
       "      <td>[0, 0, 0, 0, 0, 0, 0, 0, 0, 0, 0, 0, 0, 0, 0, ...</td>\n",
       "      <td>[0.0, 0.0, 0.0, 0.0, 0.0, 0.0, 0.0, 0.0, 0.0, ...</td>\n",
       "      <td>make a choice and proceed with recipe dependin...</td>\n",
       "      <td>make choice proceed recipe depending size squa...</td>\n",
       "      <td>make choice proceed recipe depending size squa...</td>\n",
       "    </tr>\n",
       "    <tr>\n",
       "      <th>1</th>\n",
       "      <td>31490</td>\n",
       "      <td>['preheat oven to 425 degrees f', 'press dough...</td>\n",
       "      <td>['prepared pizza crust', 'sausage patty', 'egg...</td>\n",
       "      <td>True</td>\n",
       "      <td>[0, 0, 0, 0, 0, 0, 0, 0, 0, 0, 0, 0, 0, 0, 0, ...</td>\n",
       "      <td>[0.0, 0.0, 0.0, 0.0, 0.0, 0.0, 0.0, 0.0, 0.0, ...</td>\n",
       "      <td>preheat oven to 425 degrees f press dough into...</td>\n",
       "      <td>preheat oven degrees press dough bottom sides ...</td>\n",
       "      <td>preheat oven degree press dough bottom side in...</td>\n",
       "    </tr>\n",
       "    <tr>\n",
       "      <th>2</th>\n",
       "      <td>112140</td>\n",
       "      <td>['brown ground beef in large pot', 'add choppe...</td>\n",
       "      <td>['ground beef', 'yellow onions', 'diced tomato...</td>\n",
       "      <td>True</td>\n",
       "      <td>[0, 0, 0, 0, 0, 0, 0, 0, 0, 0, 0, 0, 0, 0, 0, ...</td>\n",
       "      <td>[0.0, 0.0, 0.0, 0.0, 0.0, 0.0, 0.0, 0.0, 0.0, ...</td>\n",
       "      <td>brown ground beef in large pot add chopped oni...</td>\n",
       "      <td>brown ground beef large pot add chopped onions...</td>\n",
       "      <td>brown ground beef large pot add chopped onion ...</td>\n",
       "    </tr>\n",
       "    <tr>\n",
       "      <th>3</th>\n",
       "      <td>59389</td>\n",
       "      <td>['place potatoes in a large pot of lightly sal...</td>\n",
       "      <td>['spreadable cheese with garlic and herbs', 'n...</td>\n",
       "      <td>True</td>\n",
       "      <td>[0, 0, 0, 0, 0, 0, 0, 0, 0, 0, 0, 0, 0, 0, 0, ...</td>\n",
       "      <td>[0.0, 0.0, 0.0, 0.0, 0.0, 0.0, 0.0, 0.0, 0.0, ...</td>\n",
       "      <td>place potatoes in a large pot of lightly salte...</td>\n",
       "      <td>place potatoes large pot lightly salted water ...</td>\n",
       "      <td>place potato large pot lightly salted water br...</td>\n",
       "    </tr>\n",
       "    <tr>\n",
       "      <th>4</th>\n",
       "      <td>44061</td>\n",
       "      <td>['mix all ingredients&amp; boil for 2 1 / 2 hours ...</td>\n",
       "      <td>['tomato juice', 'apple cider vinegar', 'sugar...</td>\n",
       "      <td>True</td>\n",
       "      <td>[0, 0, 0, 0, 0, 0, 0, 0, 0, 0, 0, 0, 0, 0, 0, ...</td>\n",
       "      <td>[0.0, 0.0, 0.0, 0.0, 0.0, 0.0, 0.0, 0.0, 0.0, ...</td>\n",
       "      <td>mix all ingredients&amp; boil for 2 1 / 2 hours , ...</td>\n",
       "      <td>mix ingredients boil hours thick pour jars use...</td>\n",
       "      <td>mix ingredient boil hour thick pour jar use ol...</td>\n",
       "    </tr>\n",
       "  </tbody>\n",
       "</table>\n",
       "</div>"
      ],
      "text/plain": [
       "       id                                      cooking_steps  \\\n",
       "0  137739  ['make a choice and proceed with recipe', 'dep...   \n",
       "1   31490  ['preheat oven to 425 degrees f', 'press dough...   \n",
       "2  112140  ['brown ground beef in large pot', 'add choppe...   \n",
       "3   59389  ['place potatoes in a large pot of lightly sal...   \n",
       "4   44061  ['mix all ingredients& boil for 2 1 / 2 hours ...   \n",
       "\n",
       "                                  recipe_ingredients  is_good_recipe  \\\n",
       "0  ['winter squash', 'mexican seasoning', 'mixed ...            True   \n",
       "1  ['prepared pizza crust', 'sausage patty', 'egg...            True   \n",
       "2  ['ground beef', 'yellow onions', 'diced tomato...            True   \n",
       "3  ['spreadable cheese with garlic and herbs', 'n...            True   \n",
       "4  ['tomato juice', 'apple cider vinegar', 'sugar...            True   \n",
       "\n",
       "                                   ingedients_vector  \\\n",
       "0  [0, 0, 0, 0, 0, 0, 0, 0, 0, 0, 0, 0, 0, 0, 0, ...   \n",
       "1  [0, 0, 0, 0, 0, 0, 0, 0, 0, 0, 0, 0, 0, 0, 0, ...   \n",
       "2  [0, 0, 0, 0, 0, 0, 0, 0, 0, 0, 0, 0, 0, 0, 0, ...   \n",
       "3  [0, 0, 0, 0, 0, 0, 0, 0, 0, 0, 0, 0, 0, 0, 0, ...   \n",
       "4  [0, 0, 0, 0, 0, 0, 0, 0, 0, 0, 0, 0, 0, 0, 0, ...   \n",
       "\n",
       "                             ingedients_tfidf_vector  \\\n",
       "0  [0.0, 0.0, 0.0, 0.0, 0.0, 0.0, 0.0, 0.0, 0.0, ...   \n",
       "1  [0.0, 0.0, 0.0, 0.0, 0.0, 0.0, 0.0, 0.0, 0.0, ...   \n",
       "2  [0.0, 0.0, 0.0, 0.0, 0.0, 0.0, 0.0, 0.0, 0.0, ...   \n",
       "3  [0.0, 0.0, 0.0, 0.0, 0.0, 0.0, 0.0, 0.0, 0.0, ...   \n",
       "4  [0.0, 0.0, 0.0, 0.0, 0.0, 0.0, 0.0, 0.0, 0.0, ...   \n",
       "\n",
       "                                   cooking_steps_all  \\\n",
       "0  make a choice and proceed with recipe dependin...   \n",
       "1  preheat oven to 425 degrees f press dough into...   \n",
       "2  brown ground beef in large pot add chopped oni...   \n",
       "3  place potatoes in a large pot of lightly salte...   \n",
       "4  mix all ingredients& boil for 2 1 / 2 hours , ...   \n",
       "\n",
       "                                 cooking_steps_clean  \\\n",
       "0  make choice proceed recipe depending size squa...   \n",
       "1  preheat oven degrees press dough bottom sides ...   \n",
       "2  brown ground beef large pot add chopped onions...   \n",
       "3  place potatoes large pot lightly salted water ...   \n",
       "4  mix ingredients boil hours thick pour jars use...   \n",
       "\n",
       "                                 cooking_steps_lemma  \n",
       "0  make choice proceed recipe depending size squa...  \n",
       "1  preheat oven degree press dough bottom side in...  \n",
       "2  brown ground beef large pot add chopped onion ...  \n",
       "3  place potato large pot lightly salted water br...  \n",
       "4  mix ingredient boil hour thick pour jar use ol...  "
      ]
     },
     "execution_count": 18,
     "metadata": {},
     "output_type": "execute_result"
    }
   ],
   "source": [
    "# count vectorizer\n",
    "vectorizer = CountVectorizer()\n",
    "X_count = vectorizer.fit_transform(df['recipe_ingredients'])\n",
    "countvector = X_count.toarray().astype(int)\n",
    "df['ingedients_vector'] = countvector.tolist()\n",
    "df.head()"
   ]
  },
  {
   "cell_type": "code",
   "execution_count": 19,
   "metadata": {},
   "outputs": [],
   "source": [
    "# tfidf \n",
    "tfidf_transformer = TfidfTransformer()\n",
    "X_tfidf = tfidf_transformer.fit_transform(X_count)\n",
    "df['ingedients_tfidf_vector'] = X_tfidf.toarray().tolist()"
   ]
  },
  {
   "cell_type": "code",
   "execution_count": 20,
   "metadata": {},
   "outputs": [
    {
     "data": {
      "text/html": [
       "<div>\n",
       "<style scoped>\n",
       "    .dataframe tbody tr th:only-of-type {\n",
       "        vertical-align: middle;\n",
       "    }\n",
       "\n",
       "    .dataframe tbody tr th {\n",
       "        vertical-align: top;\n",
       "    }\n",
       "\n",
       "    .dataframe thead th {\n",
       "        text-align: right;\n",
       "    }\n",
       "</style>\n",
       "<table border=\"1\" class=\"dataframe\">\n",
       "  <thead>\n",
       "    <tr style=\"text-align: right;\">\n",
       "      <th></th>\n",
       "      <th>id</th>\n",
       "      <th>cooking_steps</th>\n",
       "      <th>recipe_ingredients</th>\n",
       "      <th>is_good_recipe</th>\n",
       "      <th>ingedients_vector</th>\n",
       "      <th>ingedients_tfidf_vector</th>\n",
       "      <th>cooking_steps_all</th>\n",
       "      <th>cooking_steps_clean</th>\n",
       "      <th>cooking_steps_lemma</th>\n",
       "    </tr>\n",
       "  </thead>\n",
       "  <tbody>\n",
       "    <tr>\n",
       "      <th>0</th>\n",
       "      <td>137739</td>\n",
       "      <td>['make a choice and proceed with recipe', 'dep...</td>\n",
       "      <td>['winter squash', 'mexican seasoning', 'mixed ...</td>\n",
       "      <td>True</td>\n",
       "      <td>[0, 0, 0, 0, 0, 0, 0, 0, 0, 0, 0, 0, 0, 0, 0, ...</td>\n",
       "      <td>[0.0, 0.0, 0.0, 0.0, 0.0, 0.0, 0.0, 0.0, 0.0, ...</td>\n",
       "      <td>make a choice and proceed with recipe dependin...</td>\n",
       "      <td>make choice proceed recipe depending size squa...</td>\n",
       "      <td>make choice proceed recipe depending size squa...</td>\n",
       "    </tr>\n",
       "    <tr>\n",
       "      <th>1</th>\n",
       "      <td>31490</td>\n",
       "      <td>['preheat oven to 425 degrees f', 'press dough...</td>\n",
       "      <td>['prepared pizza crust', 'sausage patty', 'egg...</td>\n",
       "      <td>True</td>\n",
       "      <td>[0, 0, 0, 0, 0, 0, 0, 0, 0, 0, 0, 0, 0, 0, 0, ...</td>\n",
       "      <td>[0.0, 0.0, 0.0, 0.0, 0.0, 0.0, 0.0, 0.0, 0.0, ...</td>\n",
       "      <td>preheat oven to 425 degrees f press dough into...</td>\n",
       "      <td>preheat oven degrees press dough bottom sides ...</td>\n",
       "      <td>preheat oven degree press dough bottom side in...</td>\n",
       "    </tr>\n",
       "    <tr>\n",
       "      <th>2</th>\n",
       "      <td>112140</td>\n",
       "      <td>['brown ground beef in large pot', 'add choppe...</td>\n",
       "      <td>['ground beef', 'yellow onions', 'diced tomato...</td>\n",
       "      <td>True</td>\n",
       "      <td>[0, 0, 0, 0, 0, 0, 0, 0, 0, 0, 0, 0, 0, 0, 0, ...</td>\n",
       "      <td>[0.0, 0.0, 0.0, 0.0, 0.0, 0.0, 0.0, 0.0, 0.0, ...</td>\n",
       "      <td>brown ground beef in large pot add chopped oni...</td>\n",
       "      <td>brown ground beef large pot add chopped onions...</td>\n",
       "      <td>brown ground beef large pot add chopped onion ...</td>\n",
       "    </tr>\n",
       "    <tr>\n",
       "      <th>3</th>\n",
       "      <td>59389</td>\n",
       "      <td>['place potatoes in a large pot of lightly sal...</td>\n",
       "      <td>['spreadable cheese with garlic and herbs', 'n...</td>\n",
       "      <td>True</td>\n",
       "      <td>[0, 0, 0, 0, 0, 0, 0, 0, 0, 0, 0, 0, 0, 0, 0, ...</td>\n",
       "      <td>[0.0, 0.0, 0.0, 0.0, 0.0, 0.0, 0.0, 0.0, 0.0, ...</td>\n",
       "      <td>place potatoes in a large pot of lightly salte...</td>\n",
       "      <td>place potatoes large pot lightly salted water ...</td>\n",
       "      <td>place potato large pot lightly salted water br...</td>\n",
       "    </tr>\n",
       "    <tr>\n",
       "      <th>4</th>\n",
       "      <td>44061</td>\n",
       "      <td>['mix all ingredients&amp; boil for 2 1 / 2 hours ...</td>\n",
       "      <td>['tomato juice', 'apple cider vinegar', 'sugar...</td>\n",
       "      <td>True</td>\n",
       "      <td>[0, 0, 0, 0, 0, 0, 0, 0, 0, 0, 0, 0, 0, 0, 0, ...</td>\n",
       "      <td>[0.0, 0.0, 0.0, 0.0, 0.0, 0.0, 0.0, 0.0, 0.0, ...</td>\n",
       "      <td>mix all ingredients&amp; boil for 2 1 / 2 hours , ...</td>\n",
       "      <td>mix ingredients boil hours thick pour jars use...</td>\n",
       "      <td>mix ingredient boil hour thick pour jar use ol...</td>\n",
       "    </tr>\n",
       "  </tbody>\n",
       "</table>\n",
       "</div>"
      ],
      "text/plain": [
       "       id                                      cooking_steps  \\\n",
       "0  137739  ['make a choice and proceed with recipe', 'dep...   \n",
       "1   31490  ['preheat oven to 425 degrees f', 'press dough...   \n",
       "2  112140  ['brown ground beef in large pot', 'add choppe...   \n",
       "3   59389  ['place potatoes in a large pot of lightly sal...   \n",
       "4   44061  ['mix all ingredients& boil for 2 1 / 2 hours ...   \n",
       "\n",
       "                                  recipe_ingredients  is_good_recipe  \\\n",
       "0  ['winter squash', 'mexican seasoning', 'mixed ...            True   \n",
       "1  ['prepared pizza crust', 'sausage patty', 'egg...            True   \n",
       "2  ['ground beef', 'yellow onions', 'diced tomato...            True   \n",
       "3  ['spreadable cheese with garlic and herbs', 'n...            True   \n",
       "4  ['tomato juice', 'apple cider vinegar', 'sugar...            True   \n",
       "\n",
       "                                   ingedients_vector  \\\n",
       "0  [0, 0, 0, 0, 0, 0, 0, 0, 0, 0, 0, 0, 0, 0, 0, ...   \n",
       "1  [0, 0, 0, 0, 0, 0, 0, 0, 0, 0, 0, 0, 0, 0, 0, ...   \n",
       "2  [0, 0, 0, 0, 0, 0, 0, 0, 0, 0, 0, 0, 0, 0, 0, ...   \n",
       "3  [0, 0, 0, 0, 0, 0, 0, 0, 0, 0, 0, 0, 0, 0, 0, ...   \n",
       "4  [0, 0, 0, 0, 0, 0, 0, 0, 0, 0, 0, 0, 0, 0, 0, ...   \n",
       "\n",
       "                             ingedients_tfidf_vector  \\\n",
       "0  [0.0, 0.0, 0.0, 0.0, 0.0, 0.0, 0.0, 0.0, 0.0, ...   \n",
       "1  [0.0, 0.0, 0.0, 0.0, 0.0, 0.0, 0.0, 0.0, 0.0, ...   \n",
       "2  [0.0, 0.0, 0.0, 0.0, 0.0, 0.0, 0.0, 0.0, 0.0, ...   \n",
       "3  [0.0, 0.0, 0.0, 0.0, 0.0, 0.0, 0.0, 0.0, 0.0, ...   \n",
       "4  [0.0, 0.0, 0.0, 0.0, 0.0, 0.0, 0.0, 0.0, 0.0, ...   \n",
       "\n",
       "                                   cooking_steps_all  \\\n",
       "0  make a choice and proceed with recipe dependin...   \n",
       "1  preheat oven to 425 degrees f press dough into...   \n",
       "2  brown ground beef in large pot add chopped oni...   \n",
       "3  place potatoes in a large pot of lightly salte...   \n",
       "4  mix all ingredients& boil for 2 1 / 2 hours , ...   \n",
       "\n",
       "                                 cooking_steps_clean  \\\n",
       "0  make choice proceed recipe depending size squa...   \n",
       "1  preheat oven degrees press dough bottom sides ...   \n",
       "2  brown ground beef large pot add chopped onions...   \n",
       "3  place potatoes large pot lightly salted water ...   \n",
       "4  mix ingredients boil hours thick pour jars use...   \n",
       "\n",
       "                                 cooking_steps_lemma  \n",
       "0  make choice proceed recipe depending size squa...  \n",
       "1  preheat oven degree press dough bottom side in...  \n",
       "2  brown ground beef large pot add chopped onion ...  \n",
       "3  place potato large pot lightly salted water br...  \n",
       "4  mix ingredient boil hour thick pour jar use ol...  "
      ]
     },
     "execution_count": 20,
     "metadata": {},
     "output_type": "execute_result"
    }
   ],
   "source": [
    "df.head()"
   ]
  },
  {
   "cell_type": "code",
   "execution_count": 21,
   "metadata": {},
   "outputs": [
    {
     "data": {
      "text/plain": [
       "1044"
      ]
     },
     "execution_count": 21,
     "metadata": {},
     "output_type": "execute_result"
    }
   ],
   "source": [
    "ingredients = vectorizer.get_feature_names()\n",
    "len(ingredients)"
   ]
  },
  {
   "cell_type": "markdown",
   "metadata": {},
   "source": [
    "### Cooking Steps"
   ]
  },
  {
   "cell_type": "markdown",
   "metadata": {},
   "source": [
    "Below are the feature engineering steps that I performed on the cooking steps: \n",
    "\n",
    "* First, I merged the cooking steps into one piece of text for each recipe\n",
    "* Then, I lemmatize the words in the recipe (i.e. remove inflectional endings, and return the base or dictionary form of a word)\n",
    "* Next, I use a TfIdf Vectorizer to convert the recipes into a matrix of TF-IDF features \n",
    "* The TfIdf Vectorizer also takes care of removing stop words and lowercasing words"
   ]
  },
  {
   "cell_type": "code",
   "execution_count": 22,
   "metadata": {},
   "outputs": [],
   "source": [
    "df['cooking_steps_all'] = df['cooking_steps'].apply(lambda x: \" \".join(ast.literal_eval(x)))"
   ]
  },
  {
   "cell_type": "code",
   "execution_count": 23,
   "metadata": {},
   "outputs": [
    {
     "data": {
      "text/html": [
       "<div>\n",
       "<style scoped>\n",
       "    .dataframe tbody tr th:only-of-type {\n",
       "        vertical-align: middle;\n",
       "    }\n",
       "\n",
       "    .dataframe tbody tr th {\n",
       "        vertical-align: top;\n",
       "    }\n",
       "\n",
       "    .dataframe thead th {\n",
       "        text-align: right;\n",
       "    }\n",
       "</style>\n",
       "<table border=\"1\" class=\"dataframe\">\n",
       "  <thead>\n",
       "    <tr style=\"text-align: right;\">\n",
       "      <th></th>\n",
       "      <th>id</th>\n",
       "      <th>cooking_steps</th>\n",
       "      <th>recipe_ingredients</th>\n",
       "      <th>is_good_recipe</th>\n",
       "      <th>ingedients_vector</th>\n",
       "      <th>ingedients_tfidf_vector</th>\n",
       "      <th>cooking_steps_all</th>\n",
       "      <th>cooking_steps_clean</th>\n",
       "      <th>cooking_steps_lemma</th>\n",
       "    </tr>\n",
       "  </thead>\n",
       "  <tbody>\n",
       "    <tr>\n",
       "      <th>0</th>\n",
       "      <td>137739</td>\n",
       "      <td>['make a choice and proceed with recipe', 'dep...</td>\n",
       "      <td>['winter squash', 'mexican seasoning', 'mixed ...</td>\n",
       "      <td>True</td>\n",
       "      <td>[0, 0, 0, 0, 0, 0, 0, 0, 0, 0, 0, 0, 0, 0, 0, ...</td>\n",
       "      <td>[0.0, 0.0, 0.0, 0.0, 0.0, 0.0, 0.0, 0.0, 0.0, ...</td>\n",
       "      <td>make a choice and proceed with recipe dependin...</td>\n",
       "      <td>make choice proceed recipe depending size squa...</td>\n",
       "      <td>make choice proceed recipe depending size squa...</td>\n",
       "    </tr>\n",
       "    <tr>\n",
       "      <th>1</th>\n",
       "      <td>31490</td>\n",
       "      <td>['preheat oven to 425 degrees f', 'press dough...</td>\n",
       "      <td>['prepared pizza crust', 'sausage patty', 'egg...</td>\n",
       "      <td>True</td>\n",
       "      <td>[0, 0, 0, 0, 0, 0, 0, 0, 0, 0, 0, 0, 0, 0, 0, ...</td>\n",
       "      <td>[0.0, 0.0, 0.0, 0.0, 0.0, 0.0, 0.0, 0.0, 0.0, ...</td>\n",
       "      <td>preheat oven to 425 degrees f press dough into...</td>\n",
       "      <td>preheat oven degrees press dough bottom sides ...</td>\n",
       "      <td>preheat oven degree press dough bottom side in...</td>\n",
       "    </tr>\n",
       "    <tr>\n",
       "      <th>2</th>\n",
       "      <td>112140</td>\n",
       "      <td>['brown ground beef in large pot', 'add choppe...</td>\n",
       "      <td>['ground beef', 'yellow onions', 'diced tomato...</td>\n",
       "      <td>True</td>\n",
       "      <td>[0, 0, 0, 0, 0, 0, 0, 0, 0, 0, 0, 0, 0, 0, 0, ...</td>\n",
       "      <td>[0.0, 0.0, 0.0, 0.0, 0.0, 0.0, 0.0, 0.0, 0.0, ...</td>\n",
       "      <td>brown ground beef in large pot add chopped oni...</td>\n",
       "      <td>brown ground beef large pot add chopped onions...</td>\n",
       "      <td>brown ground beef large pot add chopped onion ...</td>\n",
       "    </tr>\n",
       "    <tr>\n",
       "      <th>3</th>\n",
       "      <td>59389</td>\n",
       "      <td>['place potatoes in a large pot of lightly sal...</td>\n",
       "      <td>['spreadable cheese with garlic and herbs', 'n...</td>\n",
       "      <td>True</td>\n",
       "      <td>[0, 0, 0, 0, 0, 0, 0, 0, 0, 0, 0, 0, 0, 0, 0, ...</td>\n",
       "      <td>[0.0, 0.0, 0.0, 0.0, 0.0, 0.0, 0.0, 0.0, 0.0, ...</td>\n",
       "      <td>place potatoes in a large pot of lightly salte...</td>\n",
       "      <td>place potatoes large pot lightly salted water ...</td>\n",
       "      <td>place potato large pot lightly salted water br...</td>\n",
       "    </tr>\n",
       "    <tr>\n",
       "      <th>4</th>\n",
       "      <td>44061</td>\n",
       "      <td>['mix all ingredients&amp; boil for 2 1 / 2 hours ...</td>\n",
       "      <td>['tomato juice', 'apple cider vinegar', 'sugar...</td>\n",
       "      <td>True</td>\n",
       "      <td>[0, 0, 0, 0, 0, 0, 0, 0, 0, 0, 0, 0, 0, 0, 0, ...</td>\n",
       "      <td>[0.0, 0.0, 0.0, 0.0, 0.0, 0.0, 0.0, 0.0, 0.0, ...</td>\n",
       "      <td>mix all ingredients&amp; boil for 2 1 / 2 hours , ...</td>\n",
       "      <td>mix ingredients boil hours thick pour jars use...</td>\n",
       "      <td>mix ingredient boil hour thick pour jar use ol...</td>\n",
       "    </tr>\n",
       "  </tbody>\n",
       "</table>\n",
       "</div>"
      ],
      "text/plain": [
       "       id                                      cooking_steps  \\\n",
       "0  137739  ['make a choice and proceed with recipe', 'dep...   \n",
       "1   31490  ['preheat oven to 425 degrees f', 'press dough...   \n",
       "2  112140  ['brown ground beef in large pot', 'add choppe...   \n",
       "3   59389  ['place potatoes in a large pot of lightly sal...   \n",
       "4   44061  ['mix all ingredients& boil for 2 1 / 2 hours ...   \n",
       "\n",
       "                                  recipe_ingredients  is_good_recipe  \\\n",
       "0  ['winter squash', 'mexican seasoning', 'mixed ...            True   \n",
       "1  ['prepared pizza crust', 'sausage patty', 'egg...            True   \n",
       "2  ['ground beef', 'yellow onions', 'diced tomato...            True   \n",
       "3  ['spreadable cheese with garlic and herbs', 'n...            True   \n",
       "4  ['tomato juice', 'apple cider vinegar', 'sugar...            True   \n",
       "\n",
       "                                   ingedients_vector  \\\n",
       "0  [0, 0, 0, 0, 0, 0, 0, 0, 0, 0, 0, 0, 0, 0, 0, ...   \n",
       "1  [0, 0, 0, 0, 0, 0, 0, 0, 0, 0, 0, 0, 0, 0, 0, ...   \n",
       "2  [0, 0, 0, 0, 0, 0, 0, 0, 0, 0, 0, 0, 0, 0, 0, ...   \n",
       "3  [0, 0, 0, 0, 0, 0, 0, 0, 0, 0, 0, 0, 0, 0, 0, ...   \n",
       "4  [0, 0, 0, 0, 0, 0, 0, 0, 0, 0, 0, 0, 0, 0, 0, ...   \n",
       "\n",
       "                             ingedients_tfidf_vector  \\\n",
       "0  [0.0, 0.0, 0.0, 0.0, 0.0, 0.0, 0.0, 0.0, 0.0, ...   \n",
       "1  [0.0, 0.0, 0.0, 0.0, 0.0, 0.0, 0.0, 0.0, 0.0, ...   \n",
       "2  [0.0, 0.0, 0.0, 0.0, 0.0, 0.0, 0.0, 0.0, 0.0, ...   \n",
       "3  [0.0, 0.0, 0.0, 0.0, 0.0, 0.0, 0.0, 0.0, 0.0, ...   \n",
       "4  [0.0, 0.0, 0.0, 0.0, 0.0, 0.0, 0.0, 0.0, 0.0, ...   \n",
       "\n",
       "                                   cooking_steps_all  \\\n",
       "0  make a choice and proceed with recipe dependin...   \n",
       "1  preheat oven to 425 degrees f press dough into...   \n",
       "2  brown ground beef in large pot add chopped oni...   \n",
       "3  place potatoes in a large pot of lightly salte...   \n",
       "4  mix all ingredients& boil for 2 1 / 2 hours , ...   \n",
       "\n",
       "                                 cooking_steps_clean  \\\n",
       "0  make choice proceed recipe depending size squa...   \n",
       "1  preheat oven degrees press dough bottom sides ...   \n",
       "2  brown ground beef large pot add chopped onions...   \n",
       "3  place potatoes large pot lightly salted water ...   \n",
       "4  mix ingredients boil hours thick pour jars use...   \n",
       "\n",
       "                                 cooking_steps_lemma  \n",
       "0  make choice proceed recipe depending size squa...  \n",
       "1  preheat oven degree press dough bottom side in...  \n",
       "2  brown ground beef large pot add chopped onion ...  \n",
       "3  place potato large pot lightly salted water br...  \n",
       "4  mix ingredient boil hour thick pour jar use ol...  "
      ]
     },
     "execution_count": 23,
     "metadata": {},
     "output_type": "execute_result"
    }
   ],
   "source": [
    "df.head()"
   ]
  },
  {
   "cell_type": "code",
   "execution_count": 24,
   "metadata": {},
   "outputs": [],
   "source": [
    "df['cooking_steps_clean'] = [clean_text(i) for i in df['cooking_steps_all']] \n",
    "df['cooking_steps_lemma'] = [lemmatize_text(i) for i in df['cooking_steps_clean']] "
   ]
  },
  {
   "cell_type": "code",
   "execution_count": 25,
   "metadata": {},
   "outputs": [
    {
     "data": {
      "text/html": [
       "<div>\n",
       "<style scoped>\n",
       "    .dataframe tbody tr th:only-of-type {\n",
       "        vertical-align: middle;\n",
       "    }\n",
       "\n",
       "    .dataframe tbody tr th {\n",
       "        vertical-align: top;\n",
       "    }\n",
       "\n",
       "    .dataframe thead th {\n",
       "        text-align: right;\n",
       "    }\n",
       "</style>\n",
       "<table border=\"1\" class=\"dataframe\">\n",
       "  <thead>\n",
       "    <tr style=\"text-align: right;\">\n",
       "      <th></th>\n",
       "      <th>id</th>\n",
       "      <th>cooking_steps</th>\n",
       "      <th>recipe_ingredients</th>\n",
       "      <th>is_good_recipe</th>\n",
       "      <th>ingedients_vector</th>\n",
       "      <th>ingedients_tfidf_vector</th>\n",
       "      <th>cooking_steps_all</th>\n",
       "      <th>cooking_steps_clean</th>\n",
       "      <th>cooking_steps_lemma</th>\n",
       "    </tr>\n",
       "  </thead>\n",
       "  <tbody>\n",
       "    <tr>\n",
       "      <th>0</th>\n",
       "      <td>137739</td>\n",
       "      <td>['make a choice and proceed with recipe', 'dep...</td>\n",
       "      <td>['winter squash', 'mexican seasoning', 'mixed ...</td>\n",
       "      <td>True</td>\n",
       "      <td>[0, 0, 0, 0, 0, 0, 0, 0, 0, 0, 0, 0, 0, 0, 0, ...</td>\n",
       "      <td>[0.0, 0.0, 0.0, 0.0, 0.0, 0.0, 0.0, 0.0, 0.0, ...</td>\n",
       "      <td>make a choice and proceed with recipe dependin...</td>\n",
       "      <td>make choice proceed recipe depending size squa...</td>\n",
       "      <td>make choice proceed recipe depending size squa...</td>\n",
       "    </tr>\n",
       "    <tr>\n",
       "      <th>1</th>\n",
       "      <td>31490</td>\n",
       "      <td>['preheat oven to 425 degrees f', 'press dough...</td>\n",
       "      <td>['prepared pizza crust', 'sausage patty', 'egg...</td>\n",
       "      <td>True</td>\n",
       "      <td>[0, 0, 0, 0, 0, 0, 0, 0, 0, 0, 0, 0, 0, 0, 0, ...</td>\n",
       "      <td>[0.0, 0.0, 0.0, 0.0, 0.0, 0.0, 0.0, 0.0, 0.0, ...</td>\n",
       "      <td>preheat oven to 425 degrees f press dough into...</td>\n",
       "      <td>preheat oven degrees press dough bottom sides ...</td>\n",
       "      <td>preheat oven degree press dough bottom side in...</td>\n",
       "    </tr>\n",
       "    <tr>\n",
       "      <th>2</th>\n",
       "      <td>112140</td>\n",
       "      <td>['brown ground beef in large pot', 'add choppe...</td>\n",
       "      <td>['ground beef', 'yellow onions', 'diced tomato...</td>\n",
       "      <td>True</td>\n",
       "      <td>[0, 0, 0, 0, 0, 0, 0, 0, 0, 0, 0, 0, 0, 0, 0, ...</td>\n",
       "      <td>[0.0, 0.0, 0.0, 0.0, 0.0, 0.0, 0.0, 0.0, 0.0, ...</td>\n",
       "      <td>brown ground beef in large pot add chopped oni...</td>\n",
       "      <td>brown ground beef large pot add chopped onions...</td>\n",
       "      <td>brown ground beef large pot add chopped onion ...</td>\n",
       "    </tr>\n",
       "    <tr>\n",
       "      <th>3</th>\n",
       "      <td>59389</td>\n",
       "      <td>['place potatoes in a large pot of lightly sal...</td>\n",
       "      <td>['spreadable cheese with garlic and herbs', 'n...</td>\n",
       "      <td>True</td>\n",
       "      <td>[0, 0, 0, 0, 0, 0, 0, 0, 0, 0, 0, 0, 0, 0, 0, ...</td>\n",
       "      <td>[0.0, 0.0, 0.0, 0.0, 0.0, 0.0, 0.0, 0.0, 0.0, ...</td>\n",
       "      <td>place potatoes in a large pot of lightly salte...</td>\n",
       "      <td>place potatoes large pot lightly salted water ...</td>\n",
       "      <td>place potato large pot lightly salted water br...</td>\n",
       "    </tr>\n",
       "    <tr>\n",
       "      <th>4</th>\n",
       "      <td>44061</td>\n",
       "      <td>['mix all ingredients&amp; boil for 2 1 / 2 hours ...</td>\n",
       "      <td>['tomato juice', 'apple cider vinegar', 'sugar...</td>\n",
       "      <td>True</td>\n",
       "      <td>[0, 0, 0, 0, 0, 0, 0, 0, 0, 0, 0, 0, 0, 0, 0, ...</td>\n",
       "      <td>[0.0, 0.0, 0.0, 0.0, 0.0, 0.0, 0.0, 0.0, 0.0, ...</td>\n",
       "      <td>mix all ingredients&amp; boil for 2 1 / 2 hours , ...</td>\n",
       "      <td>mix ingredients boil hours thick pour jars use...</td>\n",
       "      <td>mix ingredient boil hour thick pour jar use ol...</td>\n",
       "    </tr>\n",
       "  </tbody>\n",
       "</table>\n",
       "</div>"
      ],
      "text/plain": [
       "       id                                      cooking_steps  \\\n",
       "0  137739  ['make a choice and proceed with recipe', 'dep...   \n",
       "1   31490  ['preheat oven to 425 degrees f', 'press dough...   \n",
       "2  112140  ['brown ground beef in large pot', 'add choppe...   \n",
       "3   59389  ['place potatoes in a large pot of lightly sal...   \n",
       "4   44061  ['mix all ingredients& boil for 2 1 / 2 hours ...   \n",
       "\n",
       "                                  recipe_ingredients  is_good_recipe  \\\n",
       "0  ['winter squash', 'mexican seasoning', 'mixed ...            True   \n",
       "1  ['prepared pizza crust', 'sausage patty', 'egg...            True   \n",
       "2  ['ground beef', 'yellow onions', 'diced tomato...            True   \n",
       "3  ['spreadable cheese with garlic and herbs', 'n...            True   \n",
       "4  ['tomato juice', 'apple cider vinegar', 'sugar...            True   \n",
       "\n",
       "                                   ingedients_vector  \\\n",
       "0  [0, 0, 0, 0, 0, 0, 0, 0, 0, 0, 0, 0, 0, 0, 0, ...   \n",
       "1  [0, 0, 0, 0, 0, 0, 0, 0, 0, 0, 0, 0, 0, 0, 0, ...   \n",
       "2  [0, 0, 0, 0, 0, 0, 0, 0, 0, 0, 0, 0, 0, 0, 0, ...   \n",
       "3  [0, 0, 0, 0, 0, 0, 0, 0, 0, 0, 0, 0, 0, 0, 0, ...   \n",
       "4  [0, 0, 0, 0, 0, 0, 0, 0, 0, 0, 0, 0, 0, 0, 0, ...   \n",
       "\n",
       "                             ingedients_tfidf_vector  \\\n",
       "0  [0.0, 0.0, 0.0, 0.0, 0.0, 0.0, 0.0, 0.0, 0.0, ...   \n",
       "1  [0.0, 0.0, 0.0, 0.0, 0.0, 0.0, 0.0, 0.0, 0.0, ...   \n",
       "2  [0.0, 0.0, 0.0, 0.0, 0.0, 0.0, 0.0, 0.0, 0.0, ...   \n",
       "3  [0.0, 0.0, 0.0, 0.0, 0.0, 0.0, 0.0, 0.0, 0.0, ...   \n",
       "4  [0.0, 0.0, 0.0, 0.0, 0.0, 0.0, 0.0, 0.0, 0.0, ...   \n",
       "\n",
       "                                   cooking_steps_all  \\\n",
       "0  make a choice and proceed with recipe dependin...   \n",
       "1  preheat oven to 425 degrees f press dough into...   \n",
       "2  brown ground beef in large pot add chopped oni...   \n",
       "3  place potatoes in a large pot of lightly salte...   \n",
       "4  mix all ingredients& boil for 2 1 / 2 hours , ...   \n",
       "\n",
       "                                 cooking_steps_clean  \\\n",
       "0  make choice proceed recipe depending size squa...   \n",
       "1  preheat oven degrees press dough bottom sides ...   \n",
       "2  brown ground beef large pot add chopped onions...   \n",
       "3  place potatoes large pot lightly salted water ...   \n",
       "4  mix ingredients boil hours thick pour jars use...   \n",
       "\n",
       "                                 cooking_steps_lemma  \n",
       "0  make choice proceed recipe depending size squa...  \n",
       "1  preheat oven degree press dough bottom side in...  \n",
       "2  brown ground beef large pot add chopped onion ...  \n",
       "3  place potato large pot lightly salted water br...  \n",
       "4  mix ingredient boil hour thick pour jar use ol...  "
      ]
     },
     "execution_count": 25,
     "metadata": {},
     "output_type": "execute_result"
    }
   ],
   "source": [
    "df.head()"
   ]
  },
  {
   "cell_type": "code",
   "execution_count": 26,
   "metadata": {},
   "outputs": [],
   "source": [
    "tfidf_vectorizer, x_tfidf, features = tfidf(df['cooking_steps_lemma'])"
   ]
  },
  {
   "cell_type": "code",
   "execution_count": 27,
   "metadata": {},
   "outputs": [
    {
     "data": {
      "text/plain": [
       "3065"
      ]
     },
     "execution_count": 27,
     "metadata": {},
     "output_type": "execute_result"
    }
   ],
   "source": [
    "len(features)"
   ]
  },
  {
   "cell_type": "code",
   "execution_count": 61,
   "metadata": {},
   "outputs": [
    {
     "data": {
      "text/plain": [
       "(3065,)"
      ]
     },
     "execution_count": 61,
     "metadata": {},
     "output_type": "execute_result"
    }
   ],
   "source": [
    "x_tfidf.toarray()[0].shape"
   ]
  },
  {
   "cell_type": "code",
   "execution_count": null,
   "metadata": {},
   "outputs": [],
   "source": []
  },
  {
   "cell_type": "code",
   "execution_count": 29,
   "metadata": {},
   "outputs": [],
   "source": [
    "df_cooking_steps = pd.DataFrame(x_tfidf.toarray(), columns=features)"
   ]
  },
  {
   "cell_type": "code",
   "execution_count": 30,
   "metadata": {
    "scrolled": true
   },
   "outputs": [
    {
     "data": {
      "text/html": [
       "<div>\n",
       "<style scoped>\n",
       "    .dataframe tbody tr th:only-of-type {\n",
       "        vertical-align: middle;\n",
       "    }\n",
       "\n",
       "    .dataframe tbody tr th {\n",
       "        vertical-align: top;\n",
       "    }\n",
       "\n",
       "    .dataframe thead th {\n",
       "        text-align: right;\n",
       "    }\n",
       "</style>\n",
       "<table border=\"1\" class=\"dataframe\">\n",
       "  <thead>\n",
       "    <tr style=\"text-align: right;\">\n",
       "      <th></th>\n",
       "      <th>aahs</th>\n",
       "      <th>abit</th>\n",
       "      <th>able</th>\n",
       "      <th>absolutely</th>\n",
       "      <th>absorb</th>\n",
       "      <th>absorbed</th>\n",
       "      <th>accent</th>\n",
       "      <th>accompanied</th>\n",
       "      <th>accompaniment</th>\n",
       "      <th>according</th>\n",
       "      <th>...</th>\n",
       "      <th>zest</th>\n",
       "      <th>zesty</th>\n",
       "      <th>zing</th>\n",
       "      <th>zip</th>\n",
       "      <th>ziploc</th>\n",
       "      <th>ziplock</th>\n",
       "      <th>zipper</th>\n",
       "      <th>zipperbag</th>\n",
       "      <th>ziti</th>\n",
       "      <th>zucchini</th>\n",
       "    </tr>\n",
       "  </thead>\n",
       "  <tbody>\n",
       "    <tr>\n",
       "      <th>0</th>\n",
       "      <td>0.0</td>\n",
       "      <td>0.0</td>\n",
       "      <td>0.0</td>\n",
       "      <td>0.0</td>\n",
       "      <td>0.0</td>\n",
       "      <td>0.0</td>\n",
       "      <td>0.0</td>\n",
       "      <td>0.0</td>\n",
       "      <td>0.0</td>\n",
       "      <td>0.0</td>\n",
       "      <td>...</td>\n",
       "      <td>0.0</td>\n",
       "      <td>0.0</td>\n",
       "      <td>0.0</td>\n",
       "      <td>0.0</td>\n",
       "      <td>0.0</td>\n",
       "      <td>0.0</td>\n",
       "      <td>0.0</td>\n",
       "      <td>0.0</td>\n",
       "      <td>0.0</td>\n",
       "      <td>0.0</td>\n",
       "    </tr>\n",
       "    <tr>\n",
       "      <th>1</th>\n",
       "      <td>0.0</td>\n",
       "      <td>0.0</td>\n",
       "      <td>0.0</td>\n",
       "      <td>0.0</td>\n",
       "      <td>0.0</td>\n",
       "      <td>0.0</td>\n",
       "      <td>0.0</td>\n",
       "      <td>0.0</td>\n",
       "      <td>0.0</td>\n",
       "      <td>0.0</td>\n",
       "      <td>...</td>\n",
       "      <td>0.0</td>\n",
       "      <td>0.0</td>\n",
       "      <td>0.0</td>\n",
       "      <td>0.0</td>\n",
       "      <td>0.0</td>\n",
       "      <td>0.0</td>\n",
       "      <td>0.0</td>\n",
       "      <td>0.0</td>\n",
       "      <td>0.0</td>\n",
       "      <td>0.0</td>\n",
       "    </tr>\n",
       "    <tr>\n",
       "      <th>2</th>\n",
       "      <td>0.0</td>\n",
       "      <td>0.0</td>\n",
       "      <td>0.0</td>\n",
       "      <td>0.0</td>\n",
       "      <td>0.0</td>\n",
       "      <td>0.0</td>\n",
       "      <td>0.0</td>\n",
       "      <td>0.0</td>\n",
       "      <td>0.0</td>\n",
       "      <td>0.0</td>\n",
       "      <td>...</td>\n",
       "      <td>0.0</td>\n",
       "      <td>0.0</td>\n",
       "      <td>0.0</td>\n",
       "      <td>0.0</td>\n",
       "      <td>0.0</td>\n",
       "      <td>0.0</td>\n",
       "      <td>0.0</td>\n",
       "      <td>0.0</td>\n",
       "      <td>0.0</td>\n",
       "      <td>0.0</td>\n",
       "    </tr>\n",
       "    <tr>\n",
       "      <th>3</th>\n",
       "      <td>0.0</td>\n",
       "      <td>0.0</td>\n",
       "      <td>0.0</td>\n",
       "      <td>0.0</td>\n",
       "      <td>0.0</td>\n",
       "      <td>0.0</td>\n",
       "      <td>0.0</td>\n",
       "      <td>0.0</td>\n",
       "      <td>0.0</td>\n",
       "      <td>0.0</td>\n",
       "      <td>...</td>\n",
       "      <td>0.0</td>\n",
       "      <td>0.0</td>\n",
       "      <td>0.0</td>\n",
       "      <td>0.0</td>\n",
       "      <td>0.0</td>\n",
       "      <td>0.0</td>\n",
       "      <td>0.0</td>\n",
       "      <td>0.0</td>\n",
       "      <td>0.0</td>\n",
       "      <td>0.0</td>\n",
       "    </tr>\n",
       "    <tr>\n",
       "      <th>4</th>\n",
       "      <td>0.0</td>\n",
       "      <td>0.0</td>\n",
       "      <td>0.0</td>\n",
       "      <td>0.0</td>\n",
       "      <td>0.0</td>\n",
       "      <td>0.0</td>\n",
       "      <td>0.0</td>\n",
       "      <td>0.0</td>\n",
       "      <td>0.0</td>\n",
       "      <td>0.0</td>\n",
       "      <td>...</td>\n",
       "      <td>0.0</td>\n",
       "      <td>0.0</td>\n",
       "      <td>0.0</td>\n",
       "      <td>0.0</td>\n",
       "      <td>0.0</td>\n",
       "      <td>0.0</td>\n",
       "      <td>0.0</td>\n",
       "      <td>0.0</td>\n",
       "      <td>0.0</td>\n",
       "      <td>0.0</td>\n",
       "    </tr>\n",
       "  </tbody>\n",
       "</table>\n",
       "<p>5 rows × 3065 columns</p>\n",
       "</div>"
      ],
      "text/plain": [
       "   aahs  abit  able  absolutely  absorb  absorbed  accent  accompanied  \\\n",
       "0   0.0   0.0   0.0         0.0     0.0       0.0     0.0          0.0   \n",
       "1   0.0   0.0   0.0         0.0     0.0       0.0     0.0          0.0   \n",
       "2   0.0   0.0   0.0         0.0     0.0       0.0     0.0          0.0   \n",
       "3   0.0   0.0   0.0         0.0     0.0       0.0     0.0          0.0   \n",
       "4   0.0   0.0   0.0         0.0     0.0       0.0     0.0          0.0   \n",
       "\n",
       "   accompaniment  according  ...  zest  zesty  zing  zip  ziploc  ziplock  \\\n",
       "0            0.0        0.0  ...   0.0    0.0   0.0  0.0     0.0      0.0   \n",
       "1            0.0        0.0  ...   0.0    0.0   0.0  0.0     0.0      0.0   \n",
       "2            0.0        0.0  ...   0.0    0.0   0.0  0.0     0.0      0.0   \n",
       "3            0.0        0.0  ...   0.0    0.0   0.0  0.0     0.0      0.0   \n",
       "4            0.0        0.0  ...   0.0    0.0   0.0  0.0     0.0      0.0   \n",
       "\n",
       "   zipper  zipperbag  ziti  zucchini  \n",
       "0     0.0        0.0   0.0       0.0  \n",
       "1     0.0        0.0   0.0       0.0  \n",
       "2     0.0        0.0   0.0       0.0  \n",
       "3     0.0        0.0   0.0       0.0  \n",
       "4     0.0        0.0   0.0       0.0  \n",
       "\n",
       "[5 rows x 3065 columns]"
      ]
     },
     "execution_count": 30,
     "metadata": {},
     "output_type": "execute_result"
    }
   ],
   "source": [
    "df_cooking_steps.head()"
   ]
  },
  {
   "cell_type": "code",
   "execution_count": 31,
   "metadata": {},
   "outputs": [],
   "source": [
    "df = pd.concat([df, df_cooking_steps], axis=1)"
   ]
  },
  {
   "cell_type": "markdown",
   "metadata": {},
   "source": [
    "### Target Variable"
   ]
  },
  {
   "cell_type": "markdown",
   "metadata": {},
   "source": [
    "I converted the target variable from Boolean to 0 and 1. "
   ]
  },
  {
   "cell_type": "code",
   "execution_count": 32,
   "metadata": {},
   "outputs": [],
   "source": [
    "df['is_good_recipe']  = df['is_good_recipe'].astype(int)"
   ]
  },
  {
   "cell_type": "code",
   "execution_count": 33,
   "metadata": {},
   "outputs": [
    {
     "data": {
      "text/html": [
       "<div>\n",
       "<style scoped>\n",
       "    .dataframe tbody tr th:only-of-type {\n",
       "        vertical-align: middle;\n",
       "    }\n",
       "\n",
       "    .dataframe tbody tr th {\n",
       "        vertical-align: top;\n",
       "    }\n",
       "\n",
       "    .dataframe thead th {\n",
       "        text-align: right;\n",
       "    }\n",
       "</style>\n",
       "<table border=\"1\" class=\"dataframe\">\n",
       "  <thead>\n",
       "    <tr style=\"text-align: right;\">\n",
       "      <th></th>\n",
       "      <th>id</th>\n",
       "      <th>cooking_steps</th>\n",
       "      <th>recipe_ingredients</th>\n",
       "      <th>is_good_recipe</th>\n",
       "      <th>ingedients_vector</th>\n",
       "      <th>ingedients_tfidf_vector</th>\n",
       "      <th>cooking_steps_all</th>\n",
       "      <th>cooking_steps_clean</th>\n",
       "      <th>cooking_steps_lemma</th>\n",
       "      <th>aahs</th>\n",
       "      <th>...</th>\n",
       "      <th>zest</th>\n",
       "      <th>zesty</th>\n",
       "      <th>zing</th>\n",
       "      <th>zip</th>\n",
       "      <th>ziploc</th>\n",
       "      <th>ziplock</th>\n",
       "      <th>zipper</th>\n",
       "      <th>zipperbag</th>\n",
       "      <th>ziti</th>\n",
       "      <th>zucchini</th>\n",
       "    </tr>\n",
       "  </thead>\n",
       "  <tbody>\n",
       "    <tr>\n",
       "      <th>0</th>\n",
       "      <td>137739</td>\n",
       "      <td>['make a choice and proceed with recipe', 'dep...</td>\n",
       "      <td>['winter squash', 'mexican seasoning', 'mixed ...</td>\n",
       "      <td>1</td>\n",
       "      <td>[0, 0, 0, 0, 0, 0, 0, 0, 0, 0, 0, 0, 0, 0, 0, ...</td>\n",
       "      <td>[0.0, 0.0, 0.0, 0.0, 0.0, 0.0, 0.0, 0.0, 0.0, ...</td>\n",
       "      <td>make a choice and proceed with recipe dependin...</td>\n",
       "      <td>make choice proceed recipe depending size squa...</td>\n",
       "      <td>make choice proceed recipe depending size squa...</td>\n",
       "      <td>0.0</td>\n",
       "      <td>...</td>\n",
       "      <td>0.0</td>\n",
       "      <td>0.0</td>\n",
       "      <td>0.0</td>\n",
       "      <td>0.0</td>\n",
       "      <td>0.0</td>\n",
       "      <td>0.0</td>\n",
       "      <td>0.0</td>\n",
       "      <td>0.0</td>\n",
       "      <td>0.0</td>\n",
       "      <td>0.0</td>\n",
       "    </tr>\n",
       "    <tr>\n",
       "      <th>1</th>\n",
       "      <td>31490</td>\n",
       "      <td>['preheat oven to 425 degrees f', 'press dough...</td>\n",
       "      <td>['prepared pizza crust', 'sausage patty', 'egg...</td>\n",
       "      <td>1</td>\n",
       "      <td>[0, 0, 0, 0, 0, 0, 0, 0, 0, 0, 0, 0, 0, 0, 0, ...</td>\n",
       "      <td>[0.0, 0.0, 0.0, 0.0, 0.0, 0.0, 0.0, 0.0, 0.0, ...</td>\n",
       "      <td>preheat oven to 425 degrees f press dough into...</td>\n",
       "      <td>preheat oven degrees press dough bottom sides ...</td>\n",
       "      <td>preheat oven degree press dough bottom side in...</td>\n",
       "      <td>0.0</td>\n",
       "      <td>...</td>\n",
       "      <td>0.0</td>\n",
       "      <td>0.0</td>\n",
       "      <td>0.0</td>\n",
       "      <td>0.0</td>\n",
       "      <td>0.0</td>\n",
       "      <td>0.0</td>\n",
       "      <td>0.0</td>\n",
       "      <td>0.0</td>\n",
       "      <td>0.0</td>\n",
       "      <td>0.0</td>\n",
       "    </tr>\n",
       "    <tr>\n",
       "      <th>2</th>\n",
       "      <td>112140</td>\n",
       "      <td>['brown ground beef in large pot', 'add choppe...</td>\n",
       "      <td>['ground beef', 'yellow onions', 'diced tomato...</td>\n",
       "      <td>1</td>\n",
       "      <td>[0, 0, 0, 0, 0, 0, 0, 0, 0, 0, 0, 0, 0, 0, 0, ...</td>\n",
       "      <td>[0.0, 0.0, 0.0, 0.0, 0.0, 0.0, 0.0, 0.0, 0.0, ...</td>\n",
       "      <td>brown ground beef in large pot add chopped oni...</td>\n",
       "      <td>brown ground beef large pot add chopped onions...</td>\n",
       "      <td>brown ground beef large pot add chopped onion ...</td>\n",
       "      <td>0.0</td>\n",
       "      <td>...</td>\n",
       "      <td>0.0</td>\n",
       "      <td>0.0</td>\n",
       "      <td>0.0</td>\n",
       "      <td>0.0</td>\n",
       "      <td>0.0</td>\n",
       "      <td>0.0</td>\n",
       "      <td>0.0</td>\n",
       "      <td>0.0</td>\n",
       "      <td>0.0</td>\n",
       "      <td>0.0</td>\n",
       "    </tr>\n",
       "  </tbody>\n",
       "</table>\n",
       "<p>3 rows × 3074 columns</p>\n",
       "</div>"
      ],
      "text/plain": [
       "       id                                      cooking_steps  \\\n",
       "0  137739  ['make a choice and proceed with recipe', 'dep...   \n",
       "1   31490  ['preheat oven to 425 degrees f', 'press dough...   \n",
       "2  112140  ['brown ground beef in large pot', 'add choppe...   \n",
       "\n",
       "                                  recipe_ingredients  is_good_recipe  \\\n",
       "0  ['winter squash', 'mexican seasoning', 'mixed ...               1   \n",
       "1  ['prepared pizza crust', 'sausage patty', 'egg...               1   \n",
       "2  ['ground beef', 'yellow onions', 'diced tomato...               1   \n",
       "\n",
       "                                   ingedients_vector  \\\n",
       "0  [0, 0, 0, 0, 0, 0, 0, 0, 0, 0, 0, 0, 0, 0, 0, ...   \n",
       "1  [0, 0, 0, 0, 0, 0, 0, 0, 0, 0, 0, 0, 0, 0, 0, ...   \n",
       "2  [0, 0, 0, 0, 0, 0, 0, 0, 0, 0, 0, 0, 0, 0, 0, ...   \n",
       "\n",
       "                             ingedients_tfidf_vector  \\\n",
       "0  [0.0, 0.0, 0.0, 0.0, 0.0, 0.0, 0.0, 0.0, 0.0, ...   \n",
       "1  [0.0, 0.0, 0.0, 0.0, 0.0, 0.0, 0.0, 0.0, 0.0, ...   \n",
       "2  [0.0, 0.0, 0.0, 0.0, 0.0, 0.0, 0.0, 0.0, 0.0, ...   \n",
       "\n",
       "                                   cooking_steps_all  \\\n",
       "0  make a choice and proceed with recipe dependin...   \n",
       "1  preheat oven to 425 degrees f press dough into...   \n",
       "2  brown ground beef in large pot add chopped oni...   \n",
       "\n",
       "                                 cooking_steps_clean  \\\n",
       "0  make choice proceed recipe depending size squa...   \n",
       "1  preheat oven degrees press dough bottom sides ...   \n",
       "2  brown ground beef large pot add chopped onions...   \n",
       "\n",
       "                                 cooking_steps_lemma  aahs  ...  zest  zesty  \\\n",
       "0  make choice proceed recipe depending size squa...   0.0  ...   0.0    0.0   \n",
       "1  preheat oven degree press dough bottom side in...   0.0  ...   0.0    0.0   \n",
       "2  brown ground beef large pot add chopped onion ...   0.0  ...   0.0    0.0   \n",
       "\n",
       "   zing  zip  ziploc  ziplock  zipper  zipperbag  ziti  zucchini  \n",
       "0   0.0  0.0     0.0      0.0     0.0        0.0   0.0       0.0  \n",
       "1   0.0  0.0     0.0      0.0     0.0        0.0   0.0       0.0  \n",
       "2   0.0  0.0     0.0      0.0     0.0        0.0   0.0       0.0  \n",
       "\n",
       "[3 rows x 3074 columns]"
      ]
     },
     "execution_count": 33,
     "metadata": {},
     "output_type": "execute_result"
    }
   ],
   "source": [
    "df.head(3)"
   ]
  },
  {
   "cell_type": "markdown",
   "metadata": {},
   "source": [
    "## Modeling"
   ]
  },
  {
   "cell_type": "code",
   "execution_count": 34,
   "metadata": {
    "scrolled": true
   },
   "outputs": [
    {
     "data": {
      "text/plain": [
       "(1000,)"
      ]
     },
     "execution_count": 34,
     "metadata": {},
     "output_type": "execute_result"
    }
   ],
   "source": [
    "y = np.array(df['is_good_recipe'])\n",
    "y.shape"
   ]
  },
  {
   "cell_type": "code",
   "execution_count": 35,
   "metadata": {},
   "outputs": [
    {
     "data": {
      "text/plain": [
       "(1000, 1044)"
      ]
     },
     "execution_count": 35,
     "metadata": {},
     "output_type": "execute_result"
    }
   ],
   "source": [
    "x_ingredients = np.array(df['ingedients_tfidf_vector'].tolist()) # ingedients_tfidf_vector\n",
    "x_ingredients.shape"
   ]
  },
  {
   "cell_type": "code",
   "execution_count": 36,
   "metadata": {},
   "outputs": [
    {
     "data": {
      "text/plain": [
       "(1000, 3065)"
      ]
     },
     "execution_count": 36,
     "metadata": {},
     "output_type": "execute_result"
    }
   ],
   "source": [
    "x_cooking = df[features].to_numpy()\n",
    "x_cooking.shape"
   ]
  },
  {
   "cell_type": "code",
   "execution_count": 37,
   "metadata": {},
   "outputs": [
    {
     "data": {
      "text/plain": [
       "(1000, 4109)"
      ]
     },
     "execution_count": 37,
     "metadata": {},
     "output_type": "execute_result"
    }
   ],
   "source": [
    "x = np.concatenate([x_ingredients, x_cooking], axis=1)\n",
    "x.shape"
   ]
  },
  {
   "cell_type": "code",
   "execution_count": 38,
   "metadata": {},
   "outputs": [],
   "source": [
    "predictors = ingredients + features"
   ]
  },
  {
   "cell_type": "code",
   "execution_count": 39,
   "metadata": {},
   "outputs": [],
   "source": [
    "# train test split \n",
    "X_train, X_test, y_train, y_test = train_test_split(x, y, test_size=0.2, random_state=42)"
   ]
  },
  {
   "cell_type": "code",
   "execution_count": 40,
   "metadata": {},
   "outputs": [
    {
     "data": {
      "text/plain": [
       "((800, 4109), (200, 4109), (800,), (200,))"
      ]
     },
     "execution_count": 40,
     "metadata": {},
     "output_type": "execute_result"
    }
   ],
   "source": [
    "X_train.shape, X_test.shape, y_train.shape, y_test.shape"
   ]
  },
  {
   "cell_type": "markdown",
   "metadata": {},
   "source": [
    "### Random Forest Classifier"
   ]
  },
  {
   "cell_type": "code",
   "execution_count": 41,
   "metadata": {},
   "outputs": [
    {
     "data": {
      "text/plain": [
       "RandomForestClassifier(bootstrap=True, class_weight=None, criterion='gini',\n",
       "            max_depth=None, max_features='auto', max_leaf_nodes=None,\n",
       "            min_impurity_decrease=0.0, min_impurity_split=None,\n",
       "            min_samples_leaf=1, min_samples_split=2,\n",
       "            min_weight_fraction_leaf=0.0, n_estimators=1000, n_jobs=None,\n",
       "            oob_score=False, random_state=42, verbose=0, warm_start=False)"
      ]
     },
     "execution_count": 41,
     "metadata": {},
     "output_type": "execute_result"
    }
   ],
   "source": [
    "rf = RandomForestClassifier(n_estimators=1000, random_state=42)\n",
    "rf.fit(X_train, y_train)"
   ]
  },
  {
   "cell_type": "code",
   "execution_count": 42,
   "metadata": {},
   "outputs": [],
   "source": [
    "y_pred = rf.predict(X_test)"
   ]
  },
  {
   "cell_type": "code",
   "execution_count": 43,
   "metadata": {},
   "outputs": [
    {
     "name": "stdout",
     "output_type": "stream",
     "text": [
      "Confusion Matrix:\n",
      "\n",
      "          Predicted=0  Predicted=1\n",
      "Actual=0           71           33\n",
      "Actual=1           37           59\n",
      "\n",
      "\n",
      "Classification Report:\n",
      "\n",
      "              precision    recall  f1-score   support\n",
      "\n",
      "           0       0.66      0.68      0.67       104\n",
      "           1       0.64      0.61      0.63        96\n",
      "\n",
      "   micro avg       0.65      0.65      0.65       200\n",
      "   macro avg       0.65      0.65      0.65       200\n",
      "weighted avg       0.65      0.65      0.65       200\n",
      "\n",
      "Accuracy: 0.65\n"
     ]
    }
   ],
   "source": [
    "cm = pd.DataFrame(\n",
    "        confusion_matrix(y_test, y_pred), \n",
    "        columns=['Predicted=0', 'Predicted=1'], \n",
    "        index=['Actual=0', 'Actual=1']\n",
    ")\n",
    "print(\"Confusion Matrix:\\n\")\n",
    "print(cm)\n",
    "print(\"\\n\")\n",
    "\n",
    "cr = classification_report(y_test, y_pred)\n",
    "print(\"Classification Report:\\n\",)\n",
    "print (cr)\n",
    "\n",
    "accuracy = accuracy_score(y_test,y_pred)\n",
    "print(\"Accuracy:\", accuracy)"
   ]
  },
  {
   "cell_type": "markdown",
   "metadata": {},
   "source": [
    "### Feature Importance"
   ]
  },
  {
   "cell_type": "code",
   "execution_count": 46,
   "metadata": {},
   "outputs": [],
   "source": [
    "importance_df = pd.DataFrame({\n",
    "        'feature': predictors,\n",
    "        'importance': rf.feature_importances_\n",
    "    })\n",
    "# importance_df.plot(x='feature', kind='bar')"
   ]
  },
  {
   "cell_type": "code",
   "execution_count": 47,
   "metadata": {},
   "outputs": [],
   "source": [
    "top_20_features = importance_df.sort_values(by='importance', ascending=False).head(20)"
   ]
  },
  {
   "cell_type": "code",
   "execution_count": 48,
   "metadata": {},
   "outputs": [
    {
     "data": {
      "text/plain": [
       "<matplotlib.axes._subplots.AxesSubplot at 0x1a1d3f54a8>"
      ]
     },
     "execution_count": 48,
     "metadata": {},
     "output_type": "execute_result"
    },
    {
     "data": {
      "image/png": "[encoded data removed]",
      "text/plain": [
       "<Figure size 432x288 with 1 Axes>"
      ]
     },
     "metadata": {
      "needs_background": "light"
     },
     "output_type": "display_data"
    }
   ],
   "source": [
    "top_20_features.plot(x='feature', kind='bar')"
   ]
  },
  {
   "cell_type": "code",
   "execution_count": null,
   "metadata": {},
   "outputs": [],
   "source": []
  },
  {
   "cell_type": "code",
   "execution_count": null,
   "metadata": {},
   "outputs": [],
   "source": []
  },
  {
   "cell_type": "code",
   "execution_count": null,
   "metadata": {},
   "outputs": [],
   "source": []
  },
  {
   "cell_type": "code",
   "execution_count": null,
   "metadata": {},
   "outputs": [],
   "source": []
  },
  {
   "cell_type": "code",
   "execution_count": null,
   "metadata": {},
   "outputs": [],
   "source": []
  },
  {
   "cell_type": "code",
   "execution_count": null,
   "metadata": {},
   "outputs": [],
   "source": []
  },
  {
   "cell_type": "code",
   "execution_count": null,
   "metadata": {},
   "outputs": [],
   "source": []
  }
 ],
 "metadata": {
  "kernelspec": {
   "display_name": "Python 3",
   "language": "python",
   "name": "python3"
  },
  "language_info": {
   "codemirror_mode": {
    "name": "ipython",
    "version": 3
   },
   "file_extension": ".py",
   "mimetype": "text/x-python",
   "name": "python",
   "nbconvert_exporter": "python",
   "pygments_lexer": "ipython3",
   "version": "3.7.2"
  }
 },
 "nbformat": 4,
 "nbformat_minor": 2
}
