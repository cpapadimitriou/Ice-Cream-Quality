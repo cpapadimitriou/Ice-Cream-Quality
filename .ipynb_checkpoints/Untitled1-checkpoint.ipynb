{
 "cells": [
  {
   "cell_type": "code",
   "execution_count": null,
   "metadata": {},
   "outputs": [],
   "source": [
    "from flask import Flask, request, jsonify, make_response\n",
    "from flask_restplus import Api, Resource, fields\n",
    "from sklearn.externals import joblib\n",
    "import numpy as np\n",
    "import sys\n",
    "\n",
    "flask_app = Flask(__name__)\n",
    "app = Api(app = flask_app, \n",
    "\t\t  version = \"1.0\", \n",
    "\t\t  title = \"Ice Cream Recipe Classifier\", \n",
    "\t\t  description = \"Predict the quality of an ice cream recipe\")\n",
    "\n",
    "name_space = app.namespace('prediction', description='Prediction APIs')\n",
    "\n",
    "model = app.model('Prediction params', \n",
    "\t\t\t\t  {'cookingSteps': fields.String(required = True, \n",
    "\t\t\t\t  \t\t\t\t\t\t\t   description=\"Cooking Steps\", \n",
    "    \t\t\t\t\t  \t\t\t\t \t   help=\"Cooking Steps cannot be blank\"),\n",
    "\t\t\t\t  'ingredients': fields.String(required = True, \n",
    "\t\t\t\t  \t\t\t\t\t\t\tdescription=\"Ingredients\", \n",
    "    \t\t\t\t\t  \t\t\t\t \thelp=\"Ingredients cannot be blank\")})\n",
    "\n",
    "classifier = joblib.load('classifier.joblib')\n",
    "\n",
    "@name_space.route(\"/\")\n",
    "class MainClass(Resource):\n",
    "\n",
    "\tdef options(self):\n",
    "\t\tresponse = make_response()\n",
    "\t\tresponse.headers.add(\"Access-Control-Allow-Origin\", \"*\")\n",
    "\t\tresponse.headers.add('Access-Control-Allow-Headers', \"*\")\n",
    "\t\tresponse.headers.add('Access-Control-Allow-Methods', \"*\")\n",
    "\t\treturn response\n",
    "\n",
    "\t@app.expect(model)\t\t\n",
    "\tdef post(self):\n",
    "\t\ttry: \n",
    "\t\t\tformData = request.json\n",
    "\t\t\tdata = [val for val in formData.values()]\n",
    "\t\t\tprediction = classifier.predict(np.array(data).reshape(1, -1))\n",
    "\t\t\ttypes = { 0: \"Bad Recipe\", 1: \"Good Recipe\"}\n",
    "\t\t\tresponse = jsonify({\n",
    "\t\t\t\t\"statusCode\": 200,\n",
    "\t\t\t\t\"status\": \"Prediction made\",\n",
    "\t\t\t\t\"result\": \"Recipe Quality Prediction: \" + types[prediction[0]]\n",
    "\t\t\t\t})\n",
    "\t\t\tresponse.headers.add('Access-Control-Allow-Origin', '*')\n",
    "\t\t\treturn response\n",
    "\t\texcept Exception as error:\n",
    "\t\t\treturn jsonify({\n",
    "\t\t\t\t\"statusCode\": 500,\n",
    "\t\t\t\t\"status\": \"Could not make prediction\",\n",
    "\t\t\t\t\"error\": str(error)\n",
    "\t\t\t})"
   ]
  },
  {
   "cell_type": "code",
   "execution_count": null,
   "metadata": {},
   "outputs": [],
   "source": [
    "import json\n",
    "\n",
    "r = {'is_claimed': 'True', 'rating': 3.5}\n",
    "r = json.dumps(r)\n",
    "loaded_r = json.loads(r)\n",
    "loaded_r['rating'] #Output 3.5\n",
    "type(r) #Output str\n",
    "type(loaded_r) #Output dict"
   ]
  },
  {
   "cell_type": "code",
   "execution_count": null,
   "metadata": {},
   "outputs": [],
   "source": []
  },
  {
   "cell_type": "code",
   "execution_count": 5,
   "metadata": {},
   "outputs": [],
   "source": [
    "import json\n",
    "\n",
    "formData = {'cookingSteps': 'preheat oven, press dough', 'ingredients': 'milk, egg'}\n",
    "formData = json.dumps(formData)\n",
    "formData = json.loads(formData)\n"
   ]
  },
  {
   "cell_type": "code",
   "execution_count": 92,
   "metadata": {},
   "outputs": [],
   "source": [
    "import pandas as pd\n",
    "import numpy as np\n",
    "from src.util import clean_text, lemmatize_text, tfidf"
   ]
  },
  {
   "cell_type": "code",
   "execution_count": 6,
   "metadata": {},
   "outputs": [
    {
     "data": {
      "text/plain": [
       "{'cookingSteps': 'preheat oven, press dough', 'ingredients': 'milk, egg'}"
      ]
     },
     "execution_count": 6,
     "metadata": {},
     "output_type": "execute_result"
    }
   ],
   "source": [
    "formData"
   ]
  },
  {
   "cell_type": "code",
   "execution_count": 7,
   "metadata": {},
   "outputs": [],
   "source": [
    "data = [val for val in formData.values()]"
   ]
  },
  {
   "cell_type": "code",
   "execution_count": 8,
   "metadata": {},
   "outputs": [
    {
     "data": {
      "text/plain": [
       "['preheat oven, press dough', 'milk, egg']"
      ]
     },
     "execution_count": 8,
     "metadata": {},
     "output_type": "execute_result"
    }
   ],
   "source": [
    "data"
   ]
  },
  {
   "cell_type": "code",
   "execution_count": 13,
   "metadata": {},
   "outputs": [],
   "source": [
    "from sklearn.externals import joblib\n",
    "\n",
    "classifier = joblib.load('classifier.joblib')\n",
    "vectorizer = joblib.load('vectorizer.joblib')\n",
    "tfidf_vectorizer = joblib.load('tfidf_vectorizer.joblib')\n"
   ]
  },
  {
   "cell_type": "code",
   "execution_count": 18,
   "metadata": {},
   "outputs": [
    {
     "data": {
      "text/plain": [
       "['milk', 'egg']"
      ]
     },
     "execution_count": 18,
     "metadata": {},
     "output_type": "execute_result"
    }
   ],
   "source": [
    "ingredients = [x.strip() for x in formData['ingredients'].split(',')]\n",
    "ingredients"
   ]
  },
  {
   "cell_type": "code",
   "execution_count": 78,
   "metadata": {
    "scrolled": true
   },
   "outputs": [],
   "source": [
    "# ingredients = [x.strip() for x in formData['ingredients'].split(',')]\n",
    "# df = pd.DataFrame(columns=['ing'])\n",
    "# df = df.append({'ing': ingredients}, ignore_index=True)\n",
    "# df = df.append({'ing': ingredients}, ignore_index=True)"
   ]
  },
  {
   "cell_type": "code",
   "execution_count": 70,
   "metadata": {
    "scrolled": true
   },
   "outputs": [],
   "source": []
  },
  {
   "cell_type": "code",
   "execution_count": 82,
   "metadata": {},
   "outputs": [
    {
     "data": {
      "text/plain": [
       "(1044,)"
      ]
     },
     "execution_count": 82,
     "metadata": {},
     "output_type": "execute_result"
    }
   ],
   "source": [
    "ingredients = [x.strip() for x in formData['ingredients'].split(',')]\n",
    "X_count = vectorizer.transform(ingredients)\n",
    "countvector = X_count.toarray().astype(int)\n",
    "x_ingredients = np.array([sum(x) for x in zip(*countvector)]) # ingedients_tfidf_vector\n",
    "x_ingredients.shape"
   ]
  },
  {
   "cell_type": "code",
   "execution_count": 95,
   "metadata": {},
   "outputs": [],
   "source": [
    "cooking_steps = lemmatize_text(clean_text(formData['cookingSteps']))"
   ]
  },
  {
   "cell_type": "code",
   "execution_count": 107,
   "metadata": {},
   "outputs": [
    {
     "data": {
      "text/plain": [
       "(3065,)"
      ]
     },
     "execution_count": 107,
     "metadata": {},
     "output_type": "execute_result"
    }
   ],
   "source": [
    "x_cooking = tfidf_vectorizer.transform([cooking_steps]).toarray()[0]\n",
    "x_cooking.shape"
   ]
  },
  {
   "cell_type": "code",
   "execution_count": 109,
   "metadata": {},
   "outputs": [
    {
     "data": {
      "text/plain": [
       "(4109,)"
      ]
     },
     "execution_count": 109,
     "metadata": {},
     "output_type": "execute_result"
    }
   ],
   "source": [
    "x = np.concatenate([x_ingredients, x_cooking])\n",
    "x.shape"
   ]
  },
  {
   "cell_type": "code",
   "execution_count": 112,
   "metadata": {},
   "outputs": [
    {
     "data": {
      "text/plain": [
       "(1, 4109)"
      ]
     },
     "execution_count": 112,
     "metadata": {},
     "output_type": "execute_result"
    }
   ],
   "source": [
    "x.reshape(1, -1).shape"
   ]
  },
  {
   "cell_type": "code",
   "execution_count": 114,
   "metadata": {},
   "outputs": [
    {
     "data": {
      "text/plain": [
       "array([0])"
      ]
     },
     "execution_count": 114,
     "metadata": {},
     "output_type": "execute_result"
    }
   ],
   "source": [
    "classifier.predict(x.reshape(1, -1))"
   ]
  },
  {
   "cell_type": "code",
   "execution_count": 115,
   "metadata": {},
   "outputs": [
    {
     "data": {
      "text/plain": [
       "'0.24.1'"
      ]
     },
     "execution_count": 115,
     "metadata": {},
     "output_type": "execute_result"
    }
   ],
   "source": [
    "pd.__version__"
   ]
  }
 ],
 "metadata": {
  "kernelspec": {
   "display_name": "Python 3",
   "language": "python",
   "name": "python3"
  },
  "language_info": {
   "codemirror_mode": {
    "name": "ipython",
    "version": 3
   },
   "file_extension": ".py",
   "mimetype": "text/x-python",
   "name": "python",
   "nbconvert_exporter": "python",
   "pygments_lexer": "ipython3",
   "version": "3.7.2"
  }
 },
 "nbformat": 4,
 "nbformat_minor": 2
}
